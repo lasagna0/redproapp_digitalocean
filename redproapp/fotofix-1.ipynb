{
 "cells": [
  {
   "cell_type": "code",
   "execution_count": 22,
   "metadata": {},
   "outputs": [
    {
     "name": "stdout",
     "output_type": "stream",
     "text": [
      "4.png\n",
      "5.png\n",
      "7.png\n",
      "6.png\n",
      "2.png\n",
      "3.png\n",
      "1.png\n",
      "bg.png\n"
     ]
    }
   ],
   "source": [
    "## image crop with face\n",
    "\n",
    "import cloudinary\n",
    "\n",
    "\n",
    "from cloudinary.uploader import upload\n",
    "\n",
    "from cloudinary.utils import cloudinary_url\n",
    "\n",
    "cloudinary.config( \n",
    "  cloud_name = \"dfrqdqmdl\", \n",
    "  api_key = \"882675963655536\", \n",
    "  api_secret = \"eiaaWcjRi109XlReeCMFk-k6BWg\" \n",
    ")\n",
    "\n",
    "PATH=\"/Users/lasagna0/Desktop/redproapp/static/website/img/barnd/\"\n",
    "\n",
    "import os\n",
    "\n",
    "files=os.listdir(PATH)\n",
    "\n",
    "for file in files:\n",
    "    ##crop image of logo png\n",
    "    if file.endswith(\".png\"):\n",
    "        upload(PATH+file, crop=\"scale\", width=110, height=75, folder=\"redproapp/logo\")\n",
    "        print(file)\n",
    "   \n"
   ]
  }
 ],
 "metadata": {
  "kernelspec": {
   "display_name": "Python 3.9.13 ('base')",
   "language": "python",
   "name": "python3"
  },
  "language_info": {
   "codemirror_mode": {
    "name": "ipython",
    "version": 3
   },
   "file_extension": ".py",
   "mimetype": "text/x-python",
   "name": "python",
   "nbconvert_exporter": "python",
   "pygments_lexer": "ipython3",
   "version": "3.9.13"
  },
  "orig_nbformat": 4,
  "vscode": {
   "interpreter": {
    "hash": "83a9abae31ce0d449215dc0cdf5369c6ba1e7d4de9770ee22b0d2b83d7be9a58"
   }
  }
 },
 "nbformat": 4,
 "nbformat_minor": 2
}
